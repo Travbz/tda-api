{
 "cells": [
  {
   "cell_type": "code",
   "execution_count": null,
   "id": "ea18fbd2",
   "metadata": {},
   "outputs": [],
   "source": [
    "from tda import auth, client\n",
    "import json\n",
    "import config\n",
    "import datetime"
   ]
  },
  {
   "cell_type": "code",
   "execution_count": null,
   "id": "879235ed",
   "metadata": {},
   "outputs": [],
   "source": [
    "try:\n",
    "    c = auth.client_from_token_file(config.token_path, config.api_key)\n",
    "except FileNotFoundError:\n",
    "    from selenium import webdriver\n",
    "    with webdriver.Chrome(executable_path=\"C:/Users/tbrid/Desktop/tda-api/chromedriver.exe\") as driver:\n",
    "        c = auth.client_from_login_flow(\n",
    "            driver, config.api_key, config.redirect_uri, config.token_path)\n",
    "\n",
    "r = c.get_price_history('AAPL',\n",
    "        period_type=client.Client.PriceHistory.PeriodType.YEAR,\n",
    "        period=client.Client.PriceHistory.Period.TWENTY_YEARS,\n",
    "        frequency_type=client.Client.PriceHistory.FrequencyType.DAILY,\n",
    "        frequency=client.Client.PriceHistory.Frequency.DAILY)\n",
    "assert r.status_code == 200, r.raise_for_status()\n",
    "print(json.dumps(r.json(), indent=4))"
   ]
  },
  {
   "cell_type": "code",
   "execution_count": null,
   "id": "72fb997d",
   "metadata": {},
   "outputs": [],
   "source": []
  }
 ],
 "metadata": {
  "kernelspec": {
   "display_name": "Python 3",
   "language": "python",
   "name": "python3"
  },
  "language_info": {
   "codemirror_mode": {
    "name": "ipython",
    "version": 3
   },
   "file_extension": ".py",
   "mimetype": "text/x-python",
   "name": "python",
   "nbconvert_exporter": "python",
   "pygments_lexer": "ipython3",
   "version": "3.8.5"
  }
 },
 "nbformat": 4,
 "nbformat_minor": 5
}
